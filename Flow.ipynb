{
 "cells": [
  {
   "cell_type": "markdown",
   "id": "40d79a35-6f0b-48d1-82b8-b53da3d3ba94",
   "metadata": {},
   "source": [
    "# Notebook for training normalizing flow to learn 2D xy distribution"
   ]
  },
  {
   "cell_type": "markdown",
   "id": "5af42b8d-2f52-43f7-9b4b-ef3702f797e4",
   "metadata": {},
   "source": [
    "#### Imports\n",
    "Make sure to install normalizing-flows with pip"
   ]
  },
  {
   "cell_type": "code",
   "execution_count": 1,
   "id": "73f9657f-6f9f-4407-899f-6226327715cd",
   "metadata": {},
   "outputs": [],
   "source": [
    "from datetime import date\n",
    "date = date.today().strftime(\"%b_%d\")\n",
    "\n",
    "# Import packages\n",
    "import torch\n",
    "import numpy as np\n",
    "import normflows as nf\n",
    "import pandas as pd\n",
    "import uproot as up\n",
    "\n",
    "from matplotlib import pyplot as plot\n",
    "import math\n",
    "import time\n",
    "import os\n",
    "def checkdir(path):\n",
    "    if not os.path.exists(path): \n",
    "        os.makedirs(path)"
   ]
  },
  {
   "cell_type": "markdown",
   "id": "b9a7a84a-2750-4a54-a020-93107e4d9727",
   "metadata": {},
   "source": [
    "#### We want to use a GPU"
   ]
  },
  {
   "cell_type": "code",
   "execution_count": 2,
   "id": "f986440c-151b-40ae-94a6-4855298d3c95",
   "metadata": {},
   "outputs": [],
   "source": [
    "# Get device to be used\n",
    "device = torch.device('cuda' if torch.cuda.is_available() else 'cpu')"
   ]
  },
  {
   "cell_type": "markdown",
   "id": "371bdff5-6d7b-4a21-9382-7e4edae68b2a",
   "metadata": {},
   "source": [
    "#### Need to open the csv and convert values to float32 to work with model\n",
    "\n",
    "csv can be downloaded from here: https://duke.box.com/s/8olajv4k19cnu64l30nxrydhpfbn8vn7"
   ]
  },
  {
   "cell_type": "code",
   "execution_count": 3,
   "id": "009f8f9d-6279-4008-b117-db5fc564ea21",
   "metadata": {},
   "outputs": [],
   "source": [
    "df = pd.read_csv(\"neutron_calorimeter_data.csv\")\n",
    "input_tensor = torch.from_numpy(df.values).to(torch.float32)"
   ]
  },
  {
   "cell_type": "code",
   "execution_count": 4,
   "id": "b4daba47-5097-4f5f-a88b-8c1d5e6a8504",
   "metadata": {},
   "outputs": [],
   "source": [
    "indexes = torch.randperm(input_tensor.shape[0]) #shuffle data\n",
    "dataset = input_tensor[indexes] / 1000 #normalize"
   ]
  },
  {
   "cell_type": "code",
   "execution_count": 5,
   "id": "9d543a34-ebfb-4f1c-90aa-b55dcc1bb2fa",
   "metadata": {},
   "outputs": [],
   "source": [
    "train_frac = 0.8\n",
    "test_frac = 0.1\n",
    "val_frac = 0.1\n",
    "train_lim = int(np.floor(dataset.shape[0] * train_frac))\n",
    "test_lim = train_lim + int(np.floor(dataset.shape[0] * test_frac))\n",
    "val_lim = test_lim + int(np.floor(dataset.shape[0] * val_frac))\n",
    "train_data = dataset[:train_lim]\n",
    "test_data = dataset[train_lim:test_lim]\n",
    "val_data = dataset[test_lim:val_lim]"
   ]
  },
  {
   "cell_type": "markdown",
   "id": "c3470323-e61f-46b7-b7bf-3fe273047558",
   "metadata": {},
   "source": [
    "#### Plot the inputs to see our target"
   ]
  },
  {
   "cell_type": "code",
   "execution_count": 6,
   "id": "74fdc031-e62d-4732-bd37-da384622b9b4",
   "metadata": {},
   "outputs": [
    {
     "data": {
      "image/png": "[encoded data removed]",
      "text/plain": [
       "<Figure size 720x432 with 2 Axes>"
      ]
     },
     "metadata": {
      "needs_background": "light"
     },
     "output_type": "display_data"
    }
   ],
   "source": [
    "input_fig, input_axs = plot.subplots(1,2,figsize=(10,6))\n",
    "input_fig.suptitle(\"training inputs\")\n",
    "input_axs[0].hist(train_data[:100000,0],bins = 100)\n",
    "input_axs[0].set_title(\"x\")\n",
    "input_axs[1].hist(train_data[:100000,1],bins = 100)\n",
    "input_axs[1].set_title(\"y\")\n",
    "input_fig.tight_layout()"
   ]
  },
  {
   "cell_type": "markdown",
   "id": "7652c55f-ae13-4a27-9063-f772f2f96cca",
   "metadata": {},
   "source": [
    "#### Here we define the flow architecture"
   ]
  },
  {
   "cell_type": "code",
   "execution_count": 11,
   "id": "cbde0d4a-adf4-4e19-91ba-e3e3470e860a",
   "metadata": {},
   "outputs": [],
   "source": [
    "run_num = 1 #to keep track of different configs\n",
    "\n",
    "num_layers = 48 #number of flow layers\n",
    "hidden_units = 64 #hidden dimension\n",
    "batch_size = 128\n",
    "lr = 1e-5\n",
    "num_epochs = 8\n",
    "\n",
    "latent_size = 2 #dimension of distribution\n",
    "\n",
    "#strings for file paths\n",
    "lr_str = str(lr)\n",
    "hidden_units_str = str(hidden_units)\n",
    "num_layers_str = str(num_layers)\n",
    "batch_size_str = str(batch_size)\n",
    "run_num_str = str(run_num)\n",
    "\n",
    "# Define 2D Gaussian base distribution\n",
    "base = nf.distributions.base.DiagGaussian(2)\n",
    "\n",
    "# Define list of flows\n",
    "flows = []\n",
    "for i in range(num_layers):\n",
    "    # Neural network with two hidden layers having 64 units each\n",
    "    # Last layer is initialized by zeros making training more stable\n",
    "    param_map = nf.nets.MLP([1, hidden_units, hidden_units, 2], init_zeros=True)\n",
    "    # Add flow layer\n",
    "    flows.append(nf.flows.AffineCouplingBlock(param_map))\n",
    "    # Swap dimensions\n",
    "    flows.append(nf.flows.Permute(2, mode='swap'))\n",
    "    \n",
    "# Construct flow model\n",
    "model = nf.NormalizingFlow(base, flows)\n",
    "\n",
    "# Move model on GPU if available\n",
    "model = model.to(device)"
   ]
  },
  {
   "cell_type": "markdown",
   "id": "08f2b2b5-0bbf-4afd-977b-5906991639ce",
   "metadata": {},
   "source": [
    "#### Can be helpful to create directories for the data and plots"
   ]
  },
  {
   "cell_type": "code",
   "execution_count": 12,
   "id": "e4e2aa7f-27a9-4f1d-9126-a5c396ff2cf3",
   "metadata": {},
   "outputs": [],
   "source": [
    "import datetime\n",
    "\n",
    "x = datetime.datetime.now()\n",
    "today = x.strftime(\"%B_%d\")\n",
    "\n",
    "model_path = \"models/\" + today + \"/\"\n",
    "checkdir(model_path)\n",
    "\n",
    "loss_path = \"plots/loss/\" + today + \"/\"\n",
    "checkdir(loss_path)\n",
    "\n",
    "run_info = \"run_\" + run_num_str+ \"_\"+ num_layers_str + \"flows_\" + num_layers_str + \"hl_\" + hidden_units_str + \"hu_\" + batch_size_str + \"bs\""
   ]
  },
  {
   "cell_type": "code",
   "execution_count": null,
   "id": "13901e01-74d0-469b-90fa-df3bf1f30b17",
   "metadata": {},
   "outputs": [],
   "source": [
    "# Train model\n",
    "max_iter = int(np.floor(train_data.shape[0] / batch_size))\n",
    "train_loss_hist = np.array([])\n",
    "val_loss_hist = np.array([])\n",
    "optimizer = torch.optim.Adam(model.parameters(), lr=lr, weight_decay=1e-5)\n",
    "\n",
    "validation_frequency = 100  # Perform validation every 100 training steps\n",
    "print(\"beginning training loop\")\n",
    "global_step = 0\n",
    "for epoch in range(num_epochs):\n",
    "    print(f\"Beginning epoch #{epoch}\")\n",
    "    model.train()  # Set model to training mode\n",
    "    for it in range(max_iter):\n",
    "        optimizer.zero_grad()\n",
    "        # Get training samples\n",
    "        begin = it * batch_size\n",
    "        end = (it + 1) * batch_size\n",
    "        samples = train_data[begin:end].to(device)\n",
    "        # Compute loss\n",
    "        loss = model.forward_kld(samples)\n",
    "        # Do backprop and optimizer step\n",
    "        if ~(torch.isnan(loss) | torch.isinf(loss)):\n",
    "            loss.backward()\n",
    "            optimizer.step()\n",
    "        # Log loss\n",
    "        train_loss_hist = np.append(train_loss_hist, loss.to('cpu').data.numpy())\n",
    "\n",
    "        global_step += 1\n",
    "\n",
    "        # Validation step every 100 training steps\n",
    "        if global_step % validation_frequency == 0:\n",
    "            model.eval()  # Set model to evaluation mode\n",
    "            val_loss = 0\n",
    "            val_iter = min(100, int(np.floor(val_data.shape[0] / batch_size)))  # Limit validation to 100 batches\n",
    "            with torch.no_grad():\n",
    "                for val_it in range(val_iter):\n",
    "                    begin = val_it * batch_size\n",
    "                    end = (val_it + 1) * batch_size\n",
    "                    samples = val_data[begin:end].to(device)\n",
    "                    loss = model.forward_kld(samples)\n",
    "                    val_loss += loss.item()\n",
    "            \n",
    "            avg_val_loss = val_loss / val_iter\n",
    "            val_loss_hist = np.append(val_loss_hist, avg_val_loss)\n",
    "            \n",
    "#             print(f\"Step {global_step} - Train Loss: {train_loss_hist[-1]:.4f}, Val Loss: {avg_val_loss:.4f}\")\n",
    "            \n",
    "            model.train()  # Set model back to training mode\n",
    "    model.save(model_path + run_info + f\"_checkpoint_e{epoch}.pth\")\n",
    "    print(f\"Epoch {epoch} completed.\")"
   ]
  },
  {
   "cell_type": "code",
   "execution_count": null,
   "id": "a7553d55-a20a-439d-8ad9-3b5eeb717f73",
   "metadata": {},
   "outputs": [],
   "source": [
    "model.save(model_path + run_info + \".pth\")\n",
    "# Plot loss\n",
    "plot.figure(figsize=(5, 5))\n",
    "plot.scatter(range(len(train_loss_hist)),train_loss_hist, np.ones(len(train_loss_hist)) * 0.2, label='loss', alpha = 1)\n",
    "plot.scatter(np.linspace(0,len(train_loss_hist),len(val_loss_hist)),val_loss_hist, np.ones(len(val_loss_hist)) * 1, label='loss', alpha = 1)\n",
    "# plot.xlim(10000,11000)\n",
    "plot.legend()\n",
    "plot.savefig( loss_path + run_info + \".jpeg\")"
   ]
  },
  {
   "cell_type": "markdown",
   "id": "45eebc97-33af-4c41-9ab7-ef627bce7fad",
   "metadata": {},
   "source": [
    "## Inference\n",
    "\n",
    "Skip here if you want to use pretrained model"
   ]
  },
  {
   "cell_type": "code",
   "execution_count": 19,
   "id": "f308fae8-bfdc-427b-ba63-9e405066fe2a",
   "metadata": {},
   "outputs": [],
   "source": [
    "run_num = 1 #to keep track of different configs\n",
    "\n",
    "num_layers = 48 #number of flow layers\n",
    "hidden_units = 64 #hidden dimension\n",
    "batch_size = 128\n",
    "lr = 1e-5\n",
    "num_epochs = 8\n",
    "\n",
    "latent_size = 2 #dimension of distribution\n",
    "\n",
    "#strings for file paths\n",
    "lr_str = str(lr)\n",
    "hidden_units_str = str(hidden_units)\n",
    "num_layers_str = str(num_layers)\n",
    "batch_size_str = str(batch_size)\n",
    "run_num_str = str(run_num)\n",
    "\n",
    "# Define 2D Gaussian base distribution\n",
    "base = nf.distributions.base.DiagGaussian(2)\n",
    "\n",
    "# Define list of flows\n",
    "flows = []\n",
    "for i in range(num_layers):\n",
    "    # Neural network with two hidden layers having 64 units each\n",
    "    # Last layer is initialized by zeros making training more stable\n",
    "    param_map = nf.nets.MLP([1, hidden_units, hidden_units, 2], init_zeros=True)\n",
    "    # Add flow layer\n",
    "    flows.append(nf.flows.AffineCouplingBlock(param_map))\n",
    "    # Swap dimensions\n",
    "    flows.append(nf.flows.Permute(2, mode='swap'))\n",
    "    \n",
    "# Construct flow model\n",
    "model = nf.NormalizingFlow(base, flows)\n",
    "\n",
    "# Move model on GPU if available\n",
    "model = model.to(device)\n",
    "#load in the pre-trained model\n",
    "model.load(\"models/November_04/run_1_2flows_48hl_64hu_128bs.pth\")"
   ]
  },
  {
   "cell_type": "code",
   "execution_count": 20,
   "id": "d41a3cfb-994e-4b15-8d78-e266267be0f8",
   "metadata": {},
   "outputs": [],
   "source": [
    "num_samples = 20000\n",
    "batch_size = 1000\n",
    "it = 0\n",
    "num_batches = int(num_samples / batch_size)"
   ]
  },
  {
   "cell_type": "code",
   "execution_count": 21,
   "id": "230ca7b8-6595-45fe-b6b6-ae73ee15380a",
   "metadata": {},
   "outputs": [
    {
     "name": "stdout",
     "output_type": "stream",
     "text": [
      "sampling took 0.32965087890625 seconds\n"
     ]
    }
   ],
   "source": [
    "begin_time = time.time()\n",
    "samples = []\n",
    "#We can sample any number of samples here, they are all independent of one another\n",
    "with torch.no_grad():\n",
    "    for it in range(num_batches):\n",
    "        batch_samples = model.sample(num_samples=batch_size)[0].cpu()\n",
    "        samples.append(batch_samples)\n",
    "\n",
    "samples = torch.cat(samples, dim=0)\n",
    "end_time = time.time()\n",
    "print(f\"sampling took {end_time - begin_time} seconds\")"
   ]
  },
  {
   "cell_type": "code",
   "execution_count": 22,
   "id": "0fb7f96c-c429-4b33-9701-5d5850fe59b5",
   "metadata": {},
   "outputs": [
    {
     "data": {
      "image/png": "[encoded data removed]",
      "text/plain": [
       "<Figure size 720x432 with 2 Axes>"
      ]
     },
     "metadata": {
      "needs_background": "light"
     },
     "output_type": "display_data"
    }
   ],
   "source": [
    "x_valid_samples = samples[:,0]\n",
    "y_valid_samples = samples[:,1]\n",
    "\n",
    "sample_fig, sample_axs = plot.subplots(1,2,figsize=(10,6))\n",
    "sample_fig.suptitle(\"sampled data\")\n",
    "sample_axs[0].hist(train_data[:len(x_valid_samples),0],bins = 100,color = \"r\", alpha = 0.5,label = \"data\")\n",
    "sample_axs[0].hist(x_valid_samples,bins = 100, alpha = 0.5,label = \"learned\")\n",
    "sample_axs[0].set_title(\"x\")\n",
    "sample_axs[0].legend()\n",
    "sample_axs[1].hist(train_data[:len(y_valid_samples),1],bins = 100,color = \"r\", alpha = 0.5,label = \"data\")\n",
    "sample_axs[1].hist(y_valid_samples,bins = 100,alpha = 0.5,label = \"learned\")\n",
    "sample_axs[1].set_title(\"y\")\n",
    "sample_axs[1].legend()\n",
    "sample_fig.tight_layout()\n",
    "sample_fig.savefig(\"plots/test/test.jpeg\")"
   ]
  },
  {
   "cell_type": "code",
   "execution_count": null,
   "id": "d99632d5-869d-4d68-8c30-90f3e6c86dc2",
   "metadata": {},
   "outputs": [],
   "source": []
  },
  {
   "cell_type": "code",
   "execution_count": null,
   "id": "158273d2-799d-463f-9511-a89b5b89cb16",
   "metadata": {},
   "outputs": [],
   "source": []
  }
 ],
 "metadata": {
  "kernelspec": {
   "display_name": "Python 3",
   "language": "python",
   "name": "python3"
  },
  "language_info": {
   "codemirror_mode": {
    "name": "ipython",
    "version": 3
   },
   "file_extension": ".py",
   "mimetype": "text/x-python",
   "name": "python",
   "nbconvert_exporter": "python",
   "pygments_lexer": "ipython3",
   "version": "3.8.8"
  }
 },
 "nbformat": 4,
 "nbformat_minor": 5
}
